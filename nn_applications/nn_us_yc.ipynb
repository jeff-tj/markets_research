{
 "cells": [
  {
   "cell_type": "markdown",
   "metadata": {},
   "source": [
    "# Applying Neural Network to Yield Curve\n",
    "\n",
    "## Introduction\n",
    "Neural networks (NN) and other deep learning are currently all the rage - however probably more widespread than their apparent applications seems to be the lack of knowledge about them. For many they are black boxes that hold the keys to all answers.\n",
    "\n",
    "In fact (at least the simple ones) are no-more than large scale applications of linear algebra, with the weights of the matrices optimised to best fit data. Recent advances in compute power have finally made them accessible. Their applications in image recognition are well publicised, however they can be used almost anywhere you have a classification problem.\n",
    "\n",
    "I attempt to use a simple neural network on the yield curve in part to show how to implement NN and hopefully demystify them. The other advatage of this approach as well is that it is non-parametrised - this is useful as too often our approaches are clouded by preconceived notions and our own biases. In this way we can hope to see that NN are not the end of humans, but rather the start of a synergy between humans and the insights provided by machines - indeed many commented that AlphaGo's unexpected moves have given even experienced players new food for thought and strategies. (This is also a great video on \"insight\" machine learning can give: https://youtu.be/GdTBqBnqhaQ).\n",
    "\n",
    "## Basics\n",
    "We apply a simple dense neural network to treasury yield data and see if we can decompose the data into factors. The benefits here are that we can use our input as our targets as well - the method here is not too dissimilar to a simple autoencoder.\n",
    "\n",
    "We obtain the data from here:\n",
    "https://www.treasury.gov/resource-center/data-chart-center/interest-rates/Pages/TextView.aspx?data=yieldAll\n"
   ]
  },
  {
   "cell_type": "code",
   "execution_count": 1,
   "metadata": {
    "collapsed": false
   },
   "outputs": [],
   "source": [
    "# Import the some modules\n",
    "%matplotlib inline\n",
    "import matplotlib.pyplot as plt\n",
    "import pandas as pd\n",
    "import numpy as np\n",
    "from datetime import datetime"
   ]
  },
  {
   "cell_type": "code",
   "execution_count": 2,
   "metadata": {
    "collapsed": false
   },
   "outputs": [
    {
     "data": {
      "text/html": [
       "<div>\n",
       "<style scoped>\n",
       "    .dataframe tbody tr th:only-of-type {\n",
       "        vertical-align: middle;\n",
       "    }\n",
       "\n",
       "    .dataframe tbody tr th {\n",
       "        vertical-align: top;\n",
       "    }\n",
       "\n",
       "    .dataframe thead th {\n",
       "        text-align: right;\n",
       "    }\n",
       "</style>\n",
       "<table border=\"1\" class=\"dataframe\">\n",
       "  <thead>\n",
       "    <tr style=\"text-align: right;\">\n",
       "      <th></th>\n",
       "      <th>1 Mo</th>\n",
       "      <th>3 Mo</th>\n",
       "      <th>6 Mo</th>\n",
       "      <th>1 Yr</th>\n",
       "      <th>2 Yr</th>\n",
       "      <th>3 Yr</th>\n",
       "      <th>5 Yr</th>\n",
       "      <th>7 Yr</th>\n",
       "      <th>10 Yr</th>\n",
       "      <th>20 Yr</th>\n",
       "    </tr>\n",
       "    <tr>\n",
       "      <th>Date</th>\n",
       "      <th></th>\n",
       "      <th></th>\n",
       "      <th></th>\n",
       "      <th></th>\n",
       "      <th></th>\n",
       "      <th></th>\n",
       "      <th></th>\n",
       "      <th></th>\n",
       "      <th></th>\n",
       "      <th></th>\n",
       "    </tr>\n",
       "  </thead>\n",
       "  <tbody>\n",
       "    <tr>\n",
       "      <th>2001-07-31</th>\n",
       "      <td>3.67</td>\n",
       "      <td>3.54</td>\n",
       "      <td>3.47</td>\n",
       "      <td>3.53</td>\n",
       "      <td>3.79</td>\n",
       "      <td>4.06</td>\n",
       "      <td>4.57</td>\n",
       "      <td>4.86</td>\n",
       "      <td>5.07</td>\n",
       "      <td>5.61</td>\n",
       "    </tr>\n",
       "    <tr>\n",
       "      <th>2001-08-01</th>\n",
       "      <td>3.65</td>\n",
       "      <td>3.53</td>\n",
       "      <td>3.47</td>\n",
       "      <td>3.56</td>\n",
       "      <td>3.83</td>\n",
       "      <td>4.09</td>\n",
       "      <td>4.62</td>\n",
       "      <td>4.90</td>\n",
       "      <td>5.11</td>\n",
       "      <td>5.63</td>\n",
       "    </tr>\n",
       "    <tr>\n",
       "      <th>2001-08-02</th>\n",
       "      <td>3.65</td>\n",
       "      <td>3.53</td>\n",
       "      <td>3.46</td>\n",
       "      <td>3.57</td>\n",
       "      <td>3.89</td>\n",
       "      <td>4.17</td>\n",
       "      <td>4.69</td>\n",
       "      <td>4.97</td>\n",
       "      <td>5.17</td>\n",
       "      <td>5.68</td>\n",
       "    </tr>\n",
       "    <tr>\n",
       "      <th>2001-08-03</th>\n",
       "      <td>3.63</td>\n",
       "      <td>3.52</td>\n",
       "      <td>3.47</td>\n",
       "      <td>3.57</td>\n",
       "      <td>3.91</td>\n",
       "      <td>4.22</td>\n",
       "      <td>4.72</td>\n",
       "      <td>4.99</td>\n",
       "      <td>5.20</td>\n",
       "      <td>5.70</td>\n",
       "    </tr>\n",
       "    <tr>\n",
       "      <th>2001-08-06</th>\n",
       "      <td>3.62</td>\n",
       "      <td>3.52</td>\n",
       "      <td>3.47</td>\n",
       "      <td>3.56</td>\n",
       "      <td>3.88</td>\n",
       "      <td>4.17</td>\n",
       "      <td>4.71</td>\n",
       "      <td>4.99</td>\n",
       "      <td>5.19</td>\n",
       "      <td>5.70</td>\n",
       "    </tr>\n",
       "  </tbody>\n",
       "</table>\n",
       "</div>"
      ],
      "text/plain": [
       "            1 Mo  3 Mo  6 Mo  1 Yr  2 Yr  3 Yr  5 Yr  7 Yr  10 Yr  20 Yr\n",
       "Date                                                                    \n",
       "2001-07-31  3.67  3.54  3.47  3.53  3.79  4.06  4.57  4.86   5.07   5.61\n",
       "2001-08-01  3.65  3.53  3.47  3.56  3.83  4.09  4.62  4.90   5.11   5.63\n",
       "2001-08-02  3.65  3.53  3.46  3.57  3.89  4.17  4.69  4.97   5.17   5.68\n",
       "2001-08-03  3.63  3.52  3.47  3.57  3.91  4.22  4.72  4.99   5.20   5.70\n",
       "2001-08-06  3.62  3.52  3.47  3.56  3.88  4.17  4.71  4.99   5.19   5.70"
      ]
     },
     "execution_count": 2,
     "metadata": {},
     "output_type": "execute_result"
    }
   ],
   "source": [
    "yc_data = pd.read_csv(\"us_yc.csv\")\n",
    "yc_data[\"Date\"] = pd.to_datetime(yc_data[\"Date\"], infer_datetime_format=True)\n",
    "\n",
    "# Clean the data - issues:\n",
    "# We lose a patch of 30y as explained\n",
    "# After that drop NA\n",
    "yc_data_cleaned = yc_data.drop(columns=[\"30 Yr\"])\n",
    "yc_data_cleaned.dropna(axis=0, how=\"any\", inplace=True)\n",
    "# Set index to date\n",
    "yc_data_cleaned.index = yc_data_cleaned[\"Date\"]\n",
    "yc_data_cleaned.drop(columns=[\"Date\"], inplace=True)\n",
    "# Check our data looks as expected\n",
    "yc_data_cleaned.head()"
   ]
  },
  {
   "cell_type": "code",
   "execution_count": 3,
   "metadata": {
    "collapsed": false
   },
   "outputs": [
    {
     "data": {
      "text/plain": [
       "<matplotlib.axes._subplots.AxesSubplot at 0x10e424650>"
      ]
     },
     "execution_count": 3,
     "metadata": {},
     "output_type": "execute_result"
    },
    {
     "data": {
      "image/png": "[encoded data removed]",
      "text/plain": [
       "<matplotlib.figure.Figure at 0x1065dc150>"
      ]
     },
     "metadata": {},
     "output_type": "display_data"
    }
   ],
   "source": [
    "yc_data_cleaned.plot()"
   ]
  },
  {
   "cell_type": "code",
   "execution_count": 4,
   "metadata": {
    "collapsed": false
   },
   "outputs": [
    {
     "data": {
      "text/plain": [
       "<matplotlib.axes._subplots.AxesSubplot at 0x10ea6b150>"
      ]
     },
     "execution_count": 4,
     "metadata": {},
     "output_type": "execute_result"
    },
    {
     "data": {
      "image/png": "[encoded data removed]",
      "text/plain": [
       "<matplotlib.figure.Figure at 0x10eab3f10>"
      ]
     },
     "metadata": {},
     "output_type": "display_data"
    }
   ],
   "source": [
    "# A tad messy to let's just plot 2y and 10y\n",
    "yc_data_cleaned.loc[:, [\"2 Yr\", \"10 Yr\"]].plot()"
   ]
  },
  {
   "cell_type": "code",
   "execution_count": 5,
   "metadata": {
    "collapsed": false
   },
   "outputs": [
    {
     "data": {
      "text/plain": [
       "4205"
      ]
     },
     "execution_count": 5,
     "metadata": {},
     "output_type": "execute_result"
    }
   ],
   "source": [
    "len(yc_data_cleaned)"
   ]
  },
  {
   "cell_type": "code",
   "execution_count": 6,
   "metadata": {
    "collapsed": false
   },
   "outputs": [
    {
     "name": "stdout",
     "output_type": "stream",
     "text": [
      "            1 Mo  3 Mo  6 Mo  1 Yr  2 Yr  3 Yr  5 Yr  7 Yr  10 Yr  20 Yr\n",
      "Date                                                                    \n",
      "2001-07-31  3.67  3.54  3.47  3.53  3.79  4.06  4.57  4.86   5.07   5.61\n",
      "2001-08-01  3.65  3.53  3.47  3.56  3.83  4.09  4.62  4.90   5.11   5.63\n",
      "2001-08-02  3.65  3.53  3.46  3.57  3.89  4.17  4.69  4.97   5.17   5.68\n",
      "2001-08-03  3.63  3.52  3.47  3.57  3.91  4.22  4.72  4.99   5.20   5.70\n",
      "2001-08-06  3.62  3.52  3.47  3.56  3.88  4.17  4.71  4.99   5.19   5.70\n",
      "            1 Mo  3 Mo  6 Mo  1 Yr  2 Yr  3 Yr  5 Yr  7 Yr  10 Yr  20 Yr\n",
      "Date                                                                    \n",
      "2011-03-11  0.04  0.08  0.13  0.24  0.64  1.12  2.06  2.76   3.40   4.29\n",
      "2011-03-14  0.05  0.09  0.14  0.22  0.61  1.07  2.00  2.70   3.36   4.25\n",
      "2011-03-15  0.07  0.10  0.14  0.23  0.63  1.08  2.00  2.68   3.33   4.21\n",
      "2011-03-16  0.06  0.10  0.14  0.21  0.58  0.98  1.87  2.56   3.22   4.11\n",
      "2011-03-17  0.06  0.08  0.14  0.24  0.60  1.02  1.91  2.59   3.25   4.15\n",
      "            1 Mo  3 Mo  6 Mo  1 Yr  2 Yr  3 Yr  5 Yr  7 Yr  10 Yr  20 Yr\n",
      "Date                                                                    \n",
      "2013-08-02  0.02  0.04  0.07  0.11  0.30  0.59  1.36  2.01   2.63   3.39\n",
      "2013-08-05  0.03  0.05  0.08  0.12  0.32  0.61  1.39  2.04   2.67   3.42\n",
      "2013-08-06  0.05  0.04  0.08  0.12  0.32  0.62  1.39  2.04   2.67   3.42\n",
      "2013-08-07  0.05  0.05  0.08  0.12  0.32  0.61  1.38  2.00   2.61   3.37\n",
      "2013-08-08  0.05  0.05  0.07  0.12  0.30  0.61  1.36  1.98   2.58   3.37\n"
     ]
    }
   ],
   "source": [
    "# Create some training, validation and test sets\n",
    "train_yc = yc_data_cleaned[:2400]\n",
    "valid_yc = yc_data_cleaned[2400:3000]\n",
    "test_yc = yc_data_cleaned[3000:]\n",
    "print train_yc.head()\n",
    "print valid_yc.head()\n",
    "print test_yc.head()"
   ]
  },
  {
   "cell_type": "code",
   "execution_count": 8,
   "metadata": {
    "collapsed": false
   },
   "outputs": [
    {
     "name": "stdout",
     "output_type": "stream",
     "text": [
      "10\n"
     ]
    }
   ],
   "source": [
    "print train_yc.shape[1]"
   ]
  },
  {
   "cell_type": "code",
   "execution_count": 10,
   "metadata": {
    "collapsed": false
   },
   "outputs": [
    {
     "name": "stdout",
     "output_type": "stream",
     "text": [
      "_________________________________________________________________\n",
      "Layer (type)                 Output Shape              Param #   \n",
      "=================================================================\n",
      "dense_3 (Dense)              (None, 5)                 55        \n",
      "_________________________________________________________________\n",
      "dense_4 (Dense)              (None, 10)                60        \n",
      "=================================================================\n",
      "Total params: 115\n",
      "Trainable params: 115\n",
      "Non-trainable params: 0\n",
      "_________________________________________________________________\n"
     ]
    }
   ],
   "source": [
    "# Build our NN\n",
    "from keras.layers import Dense\n",
    "from keras.models import Sequential\n",
    "\n",
    "input_dim = train_yc.shape[1]\n",
    "hidden_nodes = 5 # This the number of factors\n",
    "\n",
    "# Define the model\n",
    "model = Sequential()\n",
    "model.add(Dense(hidden_nodes, activation=\"relu\", input_shape=(input_dim, )))\n",
    "model.add(Dense(input_dim, activation=None))\n",
    "model.summary()"
   ]
  },
  {
   "cell_type": "code",
   "execution_count": 11,
   "metadata": {
    "collapsed": true
   },
   "outputs": [],
   "source": [
    "# Here we see we have a relatively small NN\n",
    "model.compile(optimizer='rmsprop', loss='categorical_crossentropy', metrics=['accuracy'])"
   ]
  },
  {
   "cell_type": "code",
   "execution_count": 12,
   "metadata": {
    "collapsed": true
   },
   "outputs": [],
   "source": [
    "from keras.callbacks import ModelCheckpoint\n",
    "\n",
    "checkpointer = ModelCheckpoint(filepath='saved_models/weights.optimised.hdf5', \n",
    "                               verbose=1, save_best_only=True)\n",
    "\n",
    "# Here we do some last minute model tidy up\n",
    "epochs = 100\n",
    "# Convert data to numpy arrays\n",
    "train_yc = train_yc.values\n",
    "valid_yc = valid_yc.values\n",
    "test_yc = test_yc.values"
   ]
  },
  {
   "cell_type": "code",
   "execution_count": 17,
   "metadata": {
    "collapsed": false
   },
   "outputs": [
    {
     "name": "stdout",
     "output_type": "stream",
     "text": [
      "Train on 2400 samples, validate on 600 samples\n",
      "Epoch 1/100\n",
      " - 0s - loss: 275.8676 - acc: 8.3333e-04 - val_loss: 98.9858 - val_acc: 0.0000e+00\n",
      "\n",
      "Epoch 00001: val_loss did not improve from 32.10231\n",
      "Epoch 2/100\n",
      " - 0s - loss: 284.2734 - acc: 8.3333e-04 - val_loss: 98.3210 - val_acc: 0.0000e+00\n",
      "\n",
      "Epoch 00002: val_loss did not improve from 32.10231\n",
      "Epoch 3/100\n",
      " - 0s - loss: 280.8937 - acc: 8.3333e-04 - val_loss: 98.9392 - val_acc: 0.0000e+00\n",
      "\n",
      "Epoch 00003: val_loss did not improve from 32.10231\n",
      "Epoch 4/100\n",
      " - 0s - loss: 282.0997 - acc: 8.3333e-04 - val_loss: 97.1502 - val_acc: 0.0000e+00\n",
      "\n",
      "Epoch 00004: val_loss did not improve from 32.10231\n",
      "Epoch 5/100\n",
      " - 0s - loss: 272.3065 - acc: 8.3333e-04 - val_loss: 72.3627 - val_acc: 0.0000e+00\n",
      "\n",
      "Epoch 00005: val_loss did not improve from 32.10231\n",
      "Epoch 6/100\n",
      " - 0s - loss: 246.4535 - acc: 8.3333e-04 - val_loss: 91.8299 - val_acc: 0.0000e+00\n",
      "\n",
      "Epoch 00006: val_loss did not improve from 32.10231\n",
      "Epoch 7/100\n",
      " - 0s - loss: 257.1220 - acc: 8.3333e-04 - val_loss: 96.6521 - val_acc: 0.0000e+00\n",
      "\n",
      "Epoch 00007: val_loss did not improve from 32.10231\n",
      "Epoch 8/100\n",
      " - 0s - loss: 261.9205 - acc: 8.3333e-04 - val_loss: 102.8997 - val_acc: 0.0000e+00\n",
      "\n",
      "Epoch 00008: val_loss did not improve from 32.10231\n",
      "Epoch 9/100\n",
      " - 0s - loss: 275.5942 - acc: 8.3333e-04 - val_loss: 102.8827 - val_acc: 0.0000e+00\n",
      "\n",
      "Epoch 00009: val_loss did not improve from 32.10231\n",
      "Epoch 10/100\n",
      " - 0s - loss: 275.0025 - acc: 8.3333e-04 - val_loss: 102.6915 - val_acc: 0.0000e+00\n",
      "\n",
      "Epoch 00010: val_loss did not improve from 32.10231\n",
      "Epoch 11/100\n",
      " - 0s - loss: 275.2509 - acc: 8.3333e-04 - val_loss: 102.9080 - val_acc: 0.0000e+00\n",
      "\n",
      "Epoch 00011: val_loss did not improve from 32.10231\n",
      "Epoch 12/100\n",
      " - 0s - loss: 283.6660 - acc: 8.3333e-04 - val_loss: 103.7717 - val_acc: 0.0000e+00\n",
      "\n",
      "Epoch 00012: val_loss did not improve from 32.10231\n",
      "Epoch 13/100\n",
      " - 0s - loss: 275.7689 - acc: 8.3333e-04 - val_loss: 63.5767 - val_acc: 0.0000e+00\n",
      "\n",
      "Epoch 00013: val_loss did not improve from 32.10231\n",
      "Epoch 14/100\n",
      " - 0s - loss: 251.5009 - acc: 8.3333e-04 - val_loss: 40.4524 - val_acc: 0.0000e+00\n",
      "\n",
      "Epoch 00014: val_loss did not improve from 32.10231\n",
      "Epoch 15/100\n",
      " - 0s - loss: 241.1892 - acc: 8.3333e-04 - val_loss: 82.0350 - val_acc: 0.0000e+00\n",
      "\n",
      "Epoch 00015: val_loss did not improve from 32.10231\n",
      "Epoch 16/100\n",
      " - 0s - loss: 255.0441 - acc: 8.3333e-04 - val_loss: 82.4580 - val_acc: 0.0000e+00\n",
      "\n",
      "Epoch 00016: val_loss did not improve from 32.10231\n",
      "Epoch 17/100\n",
      " - 0s - loss: 256.1043 - acc: 8.3333e-04 - val_loss: 39.9633 - val_acc: 0.0000e+00\n",
      "\n",
      "Epoch 00017: val_loss did not improve from 32.10231\n",
      "Epoch 18/100\n",
      " - 0s - loss: 224.0415 - acc: 8.3333e-04 - val_loss: 104.5897 - val_acc: 0.0000e+00\n",
      "\n",
      "Epoch 00018: val_loss did not improve from 32.10231\n",
      "Epoch 19/100\n",
      " - 0s - loss: 272.3798 - acc: 8.3333e-04 - val_loss: 108.1079 - val_acc: 0.0000e+00\n",
      "\n",
      "Epoch 00019: val_loss did not improve from 32.10231\n",
      "Epoch 20/100\n",
      " - 0s - loss: 277.7550 - acc: 8.3333e-04 - val_loss: 75.4920 - val_acc: 0.0000e+00\n",
      "\n",
      "Epoch 00020: val_loss did not improve from 32.10231\n",
      "Epoch 21/100\n",
      " - 0s - loss: 251.6601 - acc: 8.3333e-04 - val_loss: 98.7762 - val_acc: 0.0000e+00\n",
      "\n",
      "Epoch 00021: val_loss did not improve from 32.10231\n",
      "Epoch 22/100\n",
      " - 0s - loss: 269.4407 - acc: 8.3333e-04 - val_loss: 102.3332 - val_acc: 0.0000e+00\n",
      "\n",
      "Epoch 00022: val_loss did not improve from 32.10231\n",
      "Epoch 23/100\n",
      " - 0s - loss: 274.9935 - acc: 8.3333e-04 - val_loss: 58.0488 - val_acc: 0.0000e+00\n",
      "\n",
      "Epoch 00023: val_loss did not improve from 32.10231\n",
      "Epoch 24/100\n",
      " - 0s - loss: 242.4673 - acc: 8.3333e-04 - val_loss: 35.5938 - val_acc: 0.0000e+00\n",
      "\n",
      "Epoch 00024: val_loss did not improve from 32.10231\n",
      "Epoch 25/100\n",
      " - 0s - loss: 209.3329 - acc: 8.3333e-04 - val_loss: 108.3763 - val_acc: 0.0000e+00\n",
      "\n",
      "Epoch 00025: val_loss did not improve from 32.10231\n",
      "Epoch 26/100\n",
      " - 0s - loss: 275.3248 - acc: 8.3333e-04 - val_loss: 109.1073 - val_acc: 0.0000e+00\n",
      "\n",
      "Epoch 00026: val_loss did not improve from 32.10231\n",
      "Epoch 27/100\n",
      " - 0s - loss: 291.2904 - acc: 8.3333e-04 - val_loss: 108.1228 - val_acc: 0.0000e+00\n",
      "\n",
      "Epoch 00027: val_loss did not improve from 32.10231\n",
      "Epoch 28/100\n",
      " - 0s - loss: 287.5349 - acc: 8.3333e-04 - val_loss: 108.5189 - val_acc: 0.0000e+00\n",
      "\n",
      "Epoch 00028: val_loss did not improve from 32.10231\n",
      "Epoch 29/100\n",
      " - 0s - loss: 280.8041 - acc: 8.3333e-04 - val_loss: 108.3780 - val_acc: 0.0000e+00\n",
      "\n",
      "Epoch 00029: val_loss did not improve from 32.10231\n",
      "Epoch 30/100\n",
      " - 0s - loss: 286.2146 - acc: 8.3333e-04 - val_loss: 105.2962 - val_acc: 0.0000e+00\n",
      "\n",
      "Epoch 00030: val_loss did not improve from 32.10231\n",
      "Epoch 31/100\n",
      " - 0s - loss: 279.2018 - acc: 8.3333e-04 - val_loss: 104.9977 - val_acc: 0.0000e+00\n",
      "\n",
      "Epoch 00031: val_loss did not improve from 32.10231\n",
      "Epoch 32/100\n",
      " - 0s - loss: 281.9505 - acc: 8.3333e-04 - val_loss: 104.8887 - val_acc: 0.0000e+00\n",
      "\n",
      "Epoch 00032: val_loss did not improve from 32.10231\n",
      "Epoch 33/100\n",
      " - 0s - loss: 275.8269 - acc: 8.3333e-04 - val_loss: 104.7633 - val_acc: 0.0000e+00\n",
      "\n",
      "Epoch 00033: val_loss did not improve from 32.10231\n",
      "Epoch 34/100\n",
      " - 0s - loss: 279.1627 - acc: 8.3333e-04 - val_loss: 106.3277 - val_acc: 0.0000e+00\n",
      "\n",
      "Epoch 00034: val_loss did not improve from 32.10231\n",
      "Epoch 35/100\n",
      " - 0s - loss: 281.3087 - acc: 8.3333e-04 - val_loss: 106.6915 - val_acc: 0.0000e+00\n",
      "\n",
      "Epoch 00035: val_loss did not improve from 32.10231\n",
      "Epoch 36/100\n",
      " - 0s - loss: 280.8264 - acc: 8.3333e-04 - val_loss: 106.9479 - val_acc: 0.0000e+00\n",
      "\n",
      "Epoch 00036: val_loss did not improve from 32.10231\n",
      "Epoch 37/100\n",
      " - 0s - loss: 279.9520 - acc: 8.3333e-04 - val_loss: 106.5978 - val_acc: 0.0000e+00\n",
      "\n",
      "Epoch 00037: val_loss did not improve from 32.10231\n",
      "Epoch 38/100\n",
      " - 0s - loss: 281.2104 - acc: 8.3333e-04 - val_loss: 106.5161 - val_acc: 0.0000e+00\n",
      "\n",
      "Epoch 00038: val_loss did not improve from 32.10231\n",
      "Epoch 39/100\n",
      " - 0s - loss: 273.1314 - acc: 8.3333e-04 - val_loss: 106.0051 - val_acc: 0.0000e+00\n",
      "\n",
      "Epoch 00039: val_loss did not improve from 32.10231\n",
      "Epoch 40/100\n",
      " - 0s - loss: 280.5526 - acc: 8.3333e-04 - val_loss: 93.5861 - val_acc: 0.0000e+00\n",
      "\n",
      "Epoch 00040: val_loss did not improve from 32.10231\n",
      "Epoch 41/100\n",
      " - 0s - loss: 258.9248 - acc: 8.3333e-04 - val_loss: 35.8657 - val_acc: 0.0000e+00\n",
      "\n",
      "Epoch 00041: val_loss did not improve from 32.10231\n",
      "Epoch 42/100\n",
      " - 0s - loss: 224.7268 - acc: 8.3333e-04 - val_loss: 106.9286 - val_acc: 0.0000e+00\n",
      "\n",
      "Epoch 00042: val_loss did not improve from 32.10231\n",
      "Epoch 43/100\n",
      " - 0s - loss: 277.8407 - acc: 8.3333e-04 - val_loss: 106.6901 - val_acc: 0.0000e+00\n",
      "\n",
      "Epoch 00043: val_loss did not improve from 32.10231\n",
      "Epoch 44/100\n",
      " - 0s - loss: 276.1682 - acc: 8.3333e-04 - val_loss: 107.8865 - val_acc: 0.0000e+00\n",
      "\n",
      "Epoch 00044: val_loss did not improve from 32.10231\n",
      "Epoch 45/100\n",
      " - 0s - loss: 291.3077 - acc: 8.3333e-04 - val_loss: 107.0077 - val_acc: 0.0000e+00\n",
      "\n",
      "Epoch 00045: val_loss did not improve from 32.10231\n",
      "Epoch 46/100\n",
      " - 0s - loss: 275.6704 - acc: 8.3333e-04 - val_loss: 105.0102 - val_acc: 0.0000e+00\n",
      "\n",
      "Epoch 00046: val_loss did not improve from 32.10231\n",
      "Epoch 47/100\n",
      " - 0s - loss: 282.6044 - acc: 8.3333e-04 - val_loss: 104.9212 - val_acc: 0.0000e+00\n",
      "\n",
      "Epoch 00047: val_loss did not improve from 32.10231\n",
      "Epoch 48/100\n",
      " - 0s - loss: 279.7308 - acc: 8.3333e-04 - val_loss: 104.0456 - val_acc: 0.0000e+00\n",
      "\n",
      "Epoch 00048: val_loss did not improve from 32.10231\n",
      "Epoch 49/100\n",
      " - 0s - loss: 275.0104 - acc: 8.3333e-04 - val_loss: 105.0540 - val_acc: 0.0000e+00\n",
      "\n",
      "Epoch 00049: val_loss did not improve from 32.10231\n",
      "Epoch 50/100\n",
      " - 0s - loss: 278.9668 - acc: 8.3333e-04 - val_loss: 106.2023 - val_acc: 0.0000e+00\n",
      "\n",
      "Epoch 00050: val_loss did not improve from 32.10231\n",
      "Epoch 51/100\n",
      " - 0s - loss: 288.1202 - acc: 8.3333e-04 - val_loss: 87.4280 - val_acc: 0.0000e+00\n",
      "\n",
      "Epoch 00051: val_loss did not improve from 32.10231\n",
      "Epoch 52/100\n",
      " - 0s - loss: 262.3117 - acc: 8.3333e-04 - val_loss: 106.0452 - val_acc: 0.0000e+00\n",
      "\n",
      "Epoch 00052: val_loss did not improve from 32.10231\n",
      "Epoch 53/100\n",
      " - 0s - loss: 281.9091 - acc: 8.3333e-04 - val_loss: 96.4431 - val_acc: 0.0000e+00\n",
      "\n",
      "Epoch 00053: val_loss did not improve from 32.10231\n",
      "Epoch 54/100\n",
      " - 0s - loss: 269.0750 - acc: 8.3333e-04 - val_loss: 98.0223 - val_acc: 0.0000e+00\n",
      "\n",
      "Epoch 00054: val_loss did not improve from 32.10231\n",
      "Epoch 55/100\n",
      " - 0s - loss: 270.3417 - acc: 8.3333e-04 - val_loss: 73.2581 - val_acc: 0.0000e+00\n",
      "\n",
      "Epoch 00055: val_loss did not improve from 32.10231\n",
      "Epoch 56/100\n",
      " - 0s - loss: 254.6345 - acc: 8.3333e-04 - val_loss: 77.3846 - val_acc: 0.0000e+00\n",
      "\n",
      "Epoch 00056: val_loss did not improve from 32.10231\n",
      "Epoch 57/100\n",
      " - 0s - loss: 258.2447 - acc: 8.3333e-04 - val_loss: 44.3072 - val_acc: 0.0000e+00\n",
      "\n",
      "Epoch 00057: val_loss did not improve from 32.10231\n",
      "Epoch 58/100\n",
      " - 0s - loss: 250.2661 - acc: 8.3333e-04 - val_loss: 48.8651 - val_acc: 0.0000e+00\n",
      "\n",
      "Epoch 00058: val_loss did not improve from 32.10231\n",
      "Epoch 59/100\n",
      " - 0s - loss: 249.3753 - acc: 8.3333e-04 - val_loss: 39.1704 - val_acc: 0.0000e+00\n",
      "\n",
      "Epoch 00059: val_loss did not improve from 32.10231\n",
      "Epoch 60/100\n",
      " - 0s - loss: 244.2970 - acc: 8.3333e-04 - val_loss: 38.8808 - val_acc: 0.0000e+00\n",
      "\n",
      "Epoch 00060: val_loss did not improve from 32.10231\n",
      "Epoch 61/100\n",
      " - 0s - loss: 239.1875 - acc: 8.3333e-04 - val_loss: 38.9603 - val_acc: 0.0000e+00\n",
      "\n",
      "Epoch 00061: val_loss did not improve from 32.10231\n",
      "Epoch 62/100\n",
      " - 0s - loss: 225.4809 - acc: 8.3333e-04 - val_loss: 103.5816 - val_acc: 0.0000e+00\n",
      "\n",
      "Epoch 00062: val_loss did not improve from 32.10231\n",
      "Epoch 63/100\n",
      " - 0s - loss: 271.5493 - acc: 8.3333e-04 - val_loss: 103.3983 - val_acc: 0.0000e+00\n",
      "\n",
      "Epoch 00063: val_loss did not improve from 32.10231\n",
      "Epoch 64/100\n",
      " - 0s - loss: 273.9573 - acc: 8.3333e-04 - val_loss: 103.4233 - val_acc: 0.0000e+00\n",
      "\n",
      "Epoch 00064: val_loss did not improve from 32.10231\n",
      "Epoch 65/100\n",
      " - 0s - loss: 271.4715 - acc: 8.3333e-04 - val_loss: 103.4512 - val_acc: 0.0000e+00\n",
      "\n",
      "Epoch 00065: val_loss did not improve from 32.10231\n",
      "Epoch 66/100\n",
      " - 0s - loss: 272.9307 - acc: 8.3333e-04 - val_loss: 103.4524 - val_acc: 0.0000e+00\n",
      "\n",
      "Epoch 00066: val_loss did not improve from 32.10231\n",
      "Epoch 67/100\n",
      " - 0s - loss: 273.1463 - acc: 8.3333e-04 - val_loss: 103.1428 - val_acc: 0.0000e+00\n",
      "\n",
      "Epoch 00067: val_loss did not improve from 32.10231\n",
      "Epoch 68/100\n",
      " - 0s - loss: 274.9403 - acc: 8.3333e-04 - val_loss: 102.6885 - val_acc: 0.0000e+00\n",
      "\n",
      "Epoch 00068: val_loss did not improve from 32.10231\n",
      "Epoch 69/100\n",
      " - 0s - loss: 270.2330 - acc: 8.3333e-04 - val_loss: 102.5925 - val_acc: 0.0000e+00\n",
      "\n",
      "Epoch 00069: val_loss did not improve from 32.10231\n",
      "Epoch 70/100\n",
      " - 0s - loss: 269.7357 - acc: 8.3333e-04 - val_loss: nan - val_acc: 0.0000e+00\n",
      "\n",
      "Epoch 00070: val_loss did not improve from 32.10231\n",
      "Epoch 71/100\n",
      " - 0s - loss: nan - acc: 0.0313 - val_loss: nan - val_acc: 0.0000e+00\n",
      "\n",
      "Epoch 00071: val_loss did not improve from 32.10231\n",
      "Epoch 72/100\n",
      " - 0s - loss: nan - acc: 0.0313 - val_loss: nan - val_acc: 0.0000e+00\n",
      "\n",
      "Epoch 00072: val_loss did not improve from 32.10231\n",
      "Epoch 73/100\n",
      " - 0s - loss: nan - acc: 0.0312 - val_loss: nan - val_acc: 0.0000e+00\n",
      "\n",
      "Epoch 00073: val_loss did not improve from 32.10231\n",
      "Epoch 74/100\n",
      " - 0s - loss: nan - acc: 0.0312 - val_loss: nan - val_acc: 0.0000e+00\n",
      "\n",
      "Epoch 00074: val_loss did not improve from 32.10231\n",
      "Epoch 75/100\n",
      " - 0s - loss: nan - acc: 0.0312 - val_loss: nan - val_acc: 0.0000e+00\n",
      "\n",
      "Epoch 00075: val_loss did not improve from 32.10231\n",
      "Epoch 76/100\n",
      " - 0s - loss: nan - acc: 0.0313 - val_loss: nan - val_acc: 0.0000e+00\n",
      "\n",
      "Epoch 00076: val_loss did not improve from 32.10231\n",
      "Epoch 77/100\n",
      " - 0s - loss: nan - acc: 0.0312 - val_loss: nan - val_acc: 0.0000e+00\n",
      "\n",
      "Epoch 00077: val_loss did not improve from 32.10231\n",
      "Epoch 78/100\n",
      " - 0s - loss: nan - acc: 0.0313 - val_loss: nan - val_acc: 0.0000e+00\n",
      "\n",
      "Epoch 00078: val_loss did not improve from 32.10231\n",
      "Epoch 79/100\n",
      " - 0s - loss: nan - acc: 0.0312 - val_loss: nan - val_acc: 0.0000e+00\n",
      "\n",
      "Epoch 00079: val_loss did not improve from 32.10231\n",
      "Epoch 80/100\n",
      " - 0s - loss: nan - acc: 0.0313 - val_loss: nan - val_acc: 0.0000e+00\n",
      "\n",
      "Epoch 00080: val_loss did not improve from 32.10231\n",
      "Epoch 81/100\n",
      " - 0s - loss: nan - acc: 0.0312 - val_loss: nan - val_acc: 0.0000e+00\n",
      "\n",
      "Epoch 00081: val_loss did not improve from 32.10231\n",
      "Epoch 82/100\n",
      " - 0s - loss: nan - acc: 0.0313 - val_loss: nan - val_acc: 0.0000e+00\n",
      "\n",
      "Epoch 00082: val_loss did not improve from 32.10231\n",
      "Epoch 83/100\n",
      " - 0s - loss: nan - acc: 0.0313 - val_loss: nan - val_acc: 0.0000e+00\n",
      "\n",
      "Epoch 00083: val_loss did not improve from 32.10231\n",
      "Epoch 84/100\n",
      " - 0s - loss: nan - acc: 0.0313 - val_loss: nan - val_acc: 0.0000e+00\n",
      "\n",
      "Epoch 00084: val_loss did not improve from 32.10231\n",
      "Epoch 85/100\n",
      " - 0s - loss: nan - acc: 0.0312 - val_loss: nan - val_acc: 0.0000e+00\n",
      "\n",
      "Epoch 00085: val_loss did not improve from 32.10231\n",
      "Epoch 86/100\n",
      " - 0s - loss: nan - acc: 0.0313 - val_loss: nan - val_acc: 0.0000e+00\n",
      "\n",
      "Epoch 00086: val_loss did not improve from 32.10231\n",
      "Epoch 87/100\n",
      " - 0s - loss: nan - acc: 0.0312 - val_loss: nan - val_acc: 0.0000e+00\n",
      "\n",
      "Epoch 00087: val_loss did not improve from 32.10231\n",
      "Epoch 88/100\n",
      " - 0s - loss: nan - acc: 0.0313 - val_loss: nan - val_acc: 0.0000e+00\n",
      "\n",
      "Epoch 00088: val_loss did not improve from 32.10231\n",
      "Epoch 89/100\n",
      " - 0s - loss: nan - acc: 0.0313 - val_loss: nan - val_acc: 0.0000e+00\n",
      "\n",
      "Epoch 00089: val_loss did not improve from 32.10231\n",
      "Epoch 90/100\n",
      " - 0s - loss: nan - acc: 0.0312 - val_loss: nan - val_acc: 0.0000e+00\n",
      "\n",
      "Epoch 00090: val_loss did not improve from 32.10231\n",
      "Epoch 91/100\n",
      " - 0s - loss: nan - acc: 0.0312 - val_loss: nan - val_acc: 0.0000e+00\n",
      "\n",
      "Epoch 00091: val_loss did not improve from 32.10231\n",
      "Epoch 92/100\n",
      " - 0s - loss: nan - acc: 0.0313 - val_loss: nan - val_acc: 0.0000e+00\n",
      "\n",
      "Epoch 00092: val_loss did not improve from 32.10231\n",
      "Epoch 93/100\n",
      " - 0s - loss: nan - acc: 0.0313 - val_loss: nan - val_acc: 0.0000e+00\n",
      "\n",
      "Epoch 00093: val_loss did not improve from 32.10231\n",
      "Epoch 94/100\n",
      " - 0s - loss: nan - acc: 0.0313 - val_loss: nan - val_acc: 0.0000e+00\n",
      "\n",
      "Epoch 00094: val_loss did not improve from 32.10231\n",
      "Epoch 95/100\n",
      " - 0s - loss: nan - acc: 0.0312 - val_loss: nan - val_acc: 0.0000e+00\n",
      "\n",
      "Epoch 00095: val_loss did not improve from 32.10231\n",
      "Epoch 96/100\n",
      " - 0s - loss: nan - acc: 0.0312 - val_loss: nan - val_acc: 0.0000e+00\n",
      "\n",
      "Epoch 00096: val_loss did not improve from 32.10231\n",
      "Epoch 97/100\n",
      " - 0s - loss: nan - acc: 0.0313 - val_loss: nan - val_acc: 0.0000e+00\n",
      "\n",
      "Epoch 00097: val_loss did not improve from 32.10231\n",
      "Epoch 98/100\n",
      " - 0s - loss: nan - acc: 0.0313 - val_loss: nan - val_acc: 0.0000e+00\n",
      "\n",
      "Epoch 00098: val_loss did not improve from 32.10231\n",
      "Epoch 99/100\n",
      " - 0s - loss: nan - acc: 0.0313 - val_loss: nan - val_acc: 0.0000e+00\n",
      "\n",
      "Epoch 00099: val_loss did not improve from 32.10231\n",
      "Epoch 100/100\n",
      " - 0s - loss: nan - acc: 0.0313 - val_loss: nan - val_acc: 0.0000e+00\n",
      "\n",
      "Epoch 00100: val_loss did not improve from 32.10231\n"
     ]
    },
    {
     "data": {
      "text/plain": [
       "<keras.callbacks.History at 0x11219e590>"
      ]
     },
     "execution_count": 17,
     "metadata": {},
     "output_type": "execute_result"
    }
   ],
   "source": [
    "batch_n = 2000\n",
    "model.fit(train_yc, train_yc, \n",
    "         validation_data=(valid_yc, valid_yc),\n",
    "         epochs=epochs, batch_size=batch_n, callbacks=[checkpointer], verbose=2)"
   ]
  },
  {
   "cell_type": "code",
   "execution_count": 18,
   "metadata": {
    "collapsed": true
   },
   "outputs": [],
   "source": [
    "# Load the best weights\n",
    "model.load_weights(\"saved_models/weights.optimised.hdf5\")"
   ]
  },
  {
   "cell_type": "code",
   "execution_count": 19,
   "metadata": {
    "collapsed": false
   },
   "outputs": [
    {
     "data": {
      "text/plain": [
       "[array([[ 0.19569415, -0.03775368, -0.27069426, -0.5738889 ,  0.45608443],\n",
       "        [-0.51492506, -0.53485626, -0.15589231,  0.18278104, -0.07023108],\n",
       "        [ 0.18559432, -0.34407133, -0.41611379,  0.34202752, -0.62441409],\n",
       "        [-0.02542198,  0.61873043, -0.1659258 ,  0.15548617, -0.21953481],\n",
       "        [ 0.06611383,  0.13577448, -0.39797539,  0.24431342,  0.52209038],\n",
       "        [-0.07309157,  0.52410477, -0.60432792, -0.31737217, -0.48264199],\n",
       "        [-0.20967516,  0.3478412 , -0.58430088,  0.1298728 , -0.45045906],\n",
       "        [ 0.11426848, -0.08839346, -0.4461658 ,  0.42285925, -0.47466433],\n",
       "        [-0.35560393,  0.45486921, -0.62383854,  0.01725834, -0.50492167],\n",
       "        [-0.10873961, -0.48791647,  0.29814154,  0.43749443,  0.02789932]], dtype=float32),\n",
       " array([ 0.        ,  0.00997835,  0.        , -0.01623316,  0.        ], dtype=float32),\n",
       " array([[-0.38491899, -0.49147433,  0.58988208, -0.30756524, -0.06203979,\n",
       "          0.31837076, -0.33252022,  0.13962471, -0.56981999,  0.16996151],\n",
       "        [ 0.04081995,  0.12615573, -0.28644437, -0.66183078, -0.51046222,\n",
       "         -0.03107113,  0.03304973,  0.07807498,  0.60190344, -0.2689181 ],\n",
       "        [-0.39951885,  0.29101324, -0.06658351,  0.35027552,  0.47533566,\n",
       "          0.15308642,  0.52301127, -0.37411723, -0.30357248, -0.34145191],\n",
       "        [ 0.49419779,  0.50460064, -0.1651192 ,  0.33298436, -0.10009731,\n",
       "         -0.31482404, -0.65633476,  0.08448292,  0.27386871,  0.13234033],\n",
       "        [-0.42087454, -0.15594554, -0.36566263, -0.1477696 ,  0.58972532,\n",
       "         -0.04875845, -0.42352599, -0.58572763, -0.04176921, -0.02100402]], dtype=float32),\n",
       " array([-0.11422472, -0.11418593, -0.11594112, -0.12656114, -0.11423284,\n",
       "        -0.11639906, -0.11401518,  0.05182622, -0.1135205 ,  0.03670846], dtype=float32)]"
      ]
     },
     "execution_count": 19,
     "metadata": {},
     "output_type": "execute_result"
    }
   ],
   "source": [
    "model.get_weights()"
   ]
  },
  {
   "cell_type": "code",
   "execution_count": 22,
   "metadata": {
    "collapsed": false
   },
   "outputs": [
    {
     "data": {
      "text/plain": [
       "array([[ 0.19569415, -0.03775368, -0.27069426, -0.5738889 ,  0.45608443],\n",
       "       [-0.51492506, -0.53485626, -0.15589231,  0.18278104, -0.07023108],\n",
       "       [ 0.18559432, -0.34407133, -0.41611379,  0.34202752, -0.62441409],\n",
       "       [-0.02542198,  0.61873043, -0.1659258 ,  0.15548617, -0.21953481],\n",
       "       [ 0.06611383,  0.13577448, -0.39797539,  0.24431342,  0.52209038],\n",
       "       [-0.07309157,  0.52410477, -0.60432792, -0.31737217, -0.48264199],\n",
       "       [-0.20967516,  0.3478412 , -0.58430088,  0.1298728 , -0.45045906],\n",
       "       [ 0.11426848, -0.08839346, -0.4461658 ,  0.42285925, -0.47466433],\n",
       "       [-0.35560393,  0.45486921, -0.62383854,  0.01725834, -0.50492167],\n",
       "       [-0.10873961, -0.48791647,  0.29814154,  0.43749443,  0.02789932]], dtype=float32)"
      ]
     },
     "execution_count": 22,
     "metadata": {},
     "output_type": "execute_result"
    }
   ],
   "source": [
    "model.get_weights()[0]"
   ]
  },
  {
   "cell_type": "code",
   "execution_count": null,
   "metadata": {
    "collapsed": true
   },
   "outputs": [],
   "source": []
  }
 ],
 "metadata": {
  "kernelspec": {
   "display_name": "Python 2",
   "language": "python",
   "name": "python2"
  },
  "language_info": {
   "codemirror_mode": {
    "name": "ipython",
    "version": 2
   },
   "file_extension": ".py",
   "mimetype": "text/x-python",
   "name": "python",
   "nbconvert_exporter": "python",
   "pygments_lexer": "ipython2",
   "version": "2.7.13"
  }
 },
 "nbformat": 4,
 "nbformat_minor": 2
}
